{
 "cells": [
  {
   "cell_type": "code",
   "execution_count": null,
   "id": "180bff82-06eb-433b-8a60-08a1b2b9e3a7",
   "metadata": {},
   "outputs": [],
   "source": [
    "!uv pip list | grep numpy"
   ]
  },
  {
   "cell_type": "code",
   "execution_count": 1,
   "id": "ab889a83-04b1-4d66-89f9-341f77f19c7e",
   "metadata": {},
   "outputs": [],
   "source": [
    "from compasce import run_all, create_dask_client"
   ]
  },
  {
   "cell_type": "code",
   "execution_count": 2,
   "id": "d8aacf10-5cc5-4ea0-b0d3-675a6d113452",
   "metadata": {},
   "outputs": [],
   "source": [
    "from anndata import read_zarr, read_h5ad"
   ]
  },
  {
   "cell_type": "code",
   "execution_count": 3,
   "id": "a0fa588b-ad2f-4892-a46b-7da3ab0cc6e7",
   "metadata": {},
   "outputs": [],
   "source": [
    "#adata = read_zarr(\"data/test_diffexp.h5ad.zarr/__all__/adata.zarr\")"
   ]
  },
  {
   "cell_type": "code",
   "execution_count": 4,
   "id": "c5a058a5-733e-4f33-991e-14a62327d7e0",
   "metadata": {},
   "outputs": [],
   "source": [
    "adata = read_h5ad(\"KPMP_PREMIERE_SC_version1.5_ForExplorer_withRC.032624.h5ad\")"
   ]
  },
  {
   "cell_type": "code",
   "execution_count": 5,
   "id": "12d3fb61-200c-413d-aa10-cf24e695080b",
   "metadata": {},
   "outputs": [
    {
     "data": {
      "text/plain": [
       "(225177, 31496)"
      ]
     },
     "execution_count": 5,
     "metadata": {},
     "output_type": "execute_result"
    }
   ],
   "source": [
    "adata.shape"
   ]
  },
  {
   "cell_type": "code",
   "execution_count": 10,
   "id": "039c3666-d907-4691-aeb8-7eefc9469d30",
   "metadata": {},
   "outputs": [],
   "source": [
    "adata = adata[0:25_000, 0:10_000].copy()"
   ]
  },
  {
   "cell_type": "code",
   "execution_count": 11,
   "id": "eeaf1471-a58c-4d21-b3b3-cc3bca3d5717",
   "metadata": {},
   "outputs": [
    {
     "data": {
      "text/plain": [
       "(25000, 10000)"
      ]
     },
     "execution_count": 11,
     "metadata": {},
     "output_type": "execute_result"
    }
   ],
   "source": [
    "adata.shape"
   ]
  },
  {
   "cell_type": "code",
   "execution_count": 13,
   "id": "40b684e6-6376-456a-b07b-ff5dedfec2a1",
   "metadata": {},
   "outputs": [
    {
     "name": "stderr",
     "output_type": "stream",
     "text": [
      "/Users/mkeller/research/dbmi/vitessce/compasce/.venv/lib/python3.9/site-packages/anndata/_core/storage.py:85: ImplicitModificationWarning: Layer 'counts' should not be a np.matrix, use np.ndarray instead.\n",
      "  warnings.warn(msg, ImplicitModificationWarning)\n"
     ]
    }
   ],
   "source": [
    "adata.layers[\"counts\"] = adata.raw.X[0:25_000, 0:10_000].todense()\n",
    "adata.raw = None"
   ]
  },
  {
   "cell_type": "code",
   "execution_count": 14,
   "id": "13c87ca7-359a-4fd6-b85f-cc94ac5d3425",
   "metadata": {},
   "outputs": [
    {
     "name": "stderr",
     "output_type": "stream",
     "text": [
      "/Users/mkeller/research/dbmi/vitessce/compasce/.venv/lib/python3.9/site-packages/distributed/node.py:182: UserWarning: Port 8787 is already in use.\n",
      "Perhaps you already have a cluster running?\n",
      "Hosting the HTTP server on port 56843 instead\n",
      "  warnings.warn(\n"
     ]
    },
    {
     "name": "stdout",
     "output_type": "stream",
     "text": [
      "Getting layers subkeys: {'logcounts', 'counts'}\n",
      "Getting layers subkeys: {'logcounts', 'counts'}\n",
      "Getting layers subkeys: {'logcounts', 'counts'}\n",
      "Getting layers subkeys: {'logcounts', 'counts'}\n",
      "Attepting to delete /obs\n",
      "Attepting to delete /var\n",
      "Attepting to delete /obsm\n",
      "Attepting to delete /varm\n",
      "Attepting to delete /obsp\n",
      "Attepting to delete /varp\n",
      "Attepting to delete /layers\n",
      "Attepting to delete /uns\n",
      "Getting obsm subkeys: {'X_umap', 'X_pca'}\n",
      "Getting obsm subkeys: {'X_umap', 'X_pca'}\n",
      "Getting obsm subkeys: {'X_umap', 'X_pca'}\n"
     ]
    },
    {
     "name": "stderr",
     "output_type": "stream",
     "text": [
      "OMP: Info #276: omp_set_nested routine deprecated, please use omp_set_max_active_levels instead.\n"
     ]
    },
    {
     "name": "stdout",
     "output_type": "stream",
     "text": [
      "Getting obsm subkeys: {'X_umap', 'X_pca'}\n",
      "Getting obsm subkeys: {'X_umap', 'X_pca'}\n",
      "Getting obsm subkeys: {'X_umap', 'X_pca'}\n",
      "Getting obsm subkeys: {'X_umap', 'X_pca'}\n",
      "Setting obsm/X_densmap via MappingWrapper. This will not be written to disk until ladata.save().\n",
      "Attepting to delete /obs\n",
      "Attepting to delete /var\n",
      "Attepting to delete /obsm\n",
      "Attepting to delete /varm\n",
      "Attepting to delete /obsp\n",
      "Attepting to delete /varp\n",
      "Attepting to delete /layers\n",
      "Attepting to delete /uns\n",
      "Setting aliases\n",
      "Getting layers subkeys: {'logcounts', 'counts', 'pearson_residuals'}\n",
      "Unexpected exception formatting exception. Falling back to standard exception\n"
     ]
    },
    {
     "name": "stderr",
     "output_type": "stream",
     "text": [
      "Traceback (most recent call last):\n",
      "  File \"/Users/mkeller/research/dbmi/vitessce/compasce/.venv/lib/python3.9/site-packages/IPython/core/interactiveshell.py\", line 3550, in run_code\n",
      "    exec(code_obj, self.user_global_ns, self.user_ns)\n",
      "  File \"/var/folders/36/83j6x3ln225bvbpk1_vdzrm00000gn/T/ipykernel_69600/2313897316.py\", line 1, in <module>\n",
      "    run_all(adata, zarr_path=\"data/kpmp_premiere.cdata.zarr\", client=create_dask_client(memory_limit='2GB'))\n",
      "  File \"/Users/mkeller/research/dbmi/vitessce/compasce/src/compasce/pipeline.py\", line 68, in run_all\n",
      "  File \"/Users/mkeller/research/dbmi/vitessce/compasce/src/compasce/diffexp.py\", line 11, in compute_diffexp\n",
      "    sc.tl.rank_genes_groups(ladata, groupby=cell_type_col, method=\"wilcoxon\", layer=\"logcounts\", key_added=key_added)\n",
      "  File \"/Users/mkeller/research/dbmi/vitessce/compasce/.venv/lib/python3.9/site-packages/legacy_api_wrap/__init__.py\", line 80, in fn_compatible\n",
      "    return fn(*args_all, **kw)\n",
      "  File \"/Users/mkeller/research/dbmi/vitessce/compasce/.venv/lib/python3.9/site-packages/scanpy/tools/_rank_genes_groups.py\", line 691, in rank_genes_groups\n",
      "    test_obj.compute_statistics(\n",
      "  File \"/Users/mkeller/research/dbmi/vitessce/compasce/.venv/lib/python3.9/site-packages/scanpy/tools/_rank_genes_groups.py\", line 426, in compute_statistics\n",
      "    for group_index, scores, pvals in generate_test_results:\n",
      "  File \"/Users/mkeller/research/dbmi/vitessce/compasce/.venv/lib/python3.9/site-packages/scanpy/tools/_rank_genes_groups.py\", line 289, in wilcoxon\n",
      "    self._basic_stats()\n",
      "  File \"/Users/mkeller/research/dbmi/vitessce/compasce/.venv/lib/python3.9/site-packages/scanpy/tools/_rank_genes_groups.py\", line 204, in _basic_stats\n",
      "    X_mask = self.X.get_orthogonal_selection(mask_obs)\n",
      "  File \"/Users/mkeller/research/dbmi/vitessce/compasce/.venv/lib/python3.9/site-packages/zarr/core.py\", line 1080, in get_orthogonal_selection\n",
      "    return self._get_selection(indexer=indexer, out=out, fields=fields)\n",
      "  File \"/Users/mkeller/research/dbmi/vitessce/compasce/.venv/lib/python3.9/site-packages/zarr/core.py\", line 1343, in _get_selection\n",
      "    self._chunk_getitems(\n",
      "  File \"/Users/mkeller/research/dbmi/vitessce/compasce/.venv/lib/python3.9/site-packages/zarr/core.py\", line 2183, in _chunk_getitems\n",
      "    self._process_chunk(\n",
      "  File \"/Users/mkeller/research/dbmi/vitessce/compasce/.venv/lib/python3.9/site-packages/zarr/core.py\", line 2096, in _process_chunk\n",
      "    chunk = self._decode_chunk(cdata)\n",
      "  File \"/Users/mkeller/research/dbmi/vitessce/compasce/.venv/lib/python3.9/site-packages/zarr/core.py\", line 2352, in _decode_chunk\n",
      "    chunk = self._compressor.decode(cdata)\n",
      "KeyboardInterrupt\n",
      "\n",
      "During handling of the above exception, another exception occurred:\n",
      "\n",
      "Traceback (most recent call last):\n",
      "  File \"/Users/mkeller/research/dbmi/vitessce/compasce/.venv/lib/python3.9/site-packages/IPython/core/interactiveshell.py\", line 2144, in showtraceback\n",
      "    stb = self.InteractiveTB.structured_traceback(\n",
      "  File \"/Users/mkeller/research/dbmi/vitessce/compasce/.venv/lib/python3.9/site-packages/IPython/core/ultratb.py\", line 1435, in structured_traceback\n",
      "    return FormattedTB.structured_traceback(\n",
      "  File \"/Users/mkeller/research/dbmi/vitessce/compasce/.venv/lib/python3.9/site-packages/IPython/core/ultratb.py\", line 1326, in structured_traceback\n",
      "    return VerboseTB.structured_traceback(\n",
      "  File \"/Users/mkeller/research/dbmi/vitessce/compasce/.venv/lib/python3.9/site-packages/IPython/core/ultratb.py\", line 1173, in structured_traceback\n",
      "    formatted_exception = self.format_exception_as_a_whole(etype, evalue, etb, number_of_lines_of_context,\n",
      "  File \"/Users/mkeller/research/dbmi/vitessce/compasce/.venv/lib/python3.9/site-packages/IPython/core/ultratb.py\", line 1088, in format_exception_as_a_whole\n",
      "    frames.append(self.format_record(record))\n",
      "  File \"/Users/mkeller/research/dbmi/vitessce/compasce/.venv/lib/python3.9/site-packages/IPython/core/ultratb.py\", line 970, in format_record\n",
      "    frame_info.lines, Colors, self.has_colors, lvals\n",
      "  File \"/Users/mkeller/research/dbmi/vitessce/compasce/.venv/lib/python3.9/site-packages/IPython/core/ultratb.py\", line 792, in lines\n",
      "    return self._sd.lines\n",
      "  File \"/Users/mkeller/research/dbmi/vitessce/compasce/.venv/lib/python3.9/site-packages/stack_data/utils.py\", line 145, in cached_property_wrapper\n",
      "    value = obj.__dict__[self.func.__name__] = self.func(obj)\n",
      "  File \"/Users/mkeller/research/dbmi/vitessce/compasce/.venv/lib/python3.9/site-packages/stack_data/core.py\", line 734, in lines\n",
      "    pieces = self.included_pieces\n",
      "  File \"/Users/mkeller/research/dbmi/vitessce/compasce/.venv/lib/python3.9/site-packages/stack_data/utils.py\", line 145, in cached_property_wrapper\n",
      "    value = obj.__dict__[self.func.__name__] = self.func(obj)\n",
      "  File \"/Users/mkeller/research/dbmi/vitessce/compasce/.venv/lib/python3.9/site-packages/stack_data/core.py\", line 681, in included_pieces\n",
      "    pos = scope_pieces.index(self.executing_piece)\n",
      "  File \"/Users/mkeller/research/dbmi/vitessce/compasce/.venv/lib/python3.9/site-packages/stack_data/utils.py\", line 145, in cached_property_wrapper\n",
      "    value = obj.__dict__[self.func.__name__] = self.func(obj)\n",
      "  File \"/Users/mkeller/research/dbmi/vitessce/compasce/.venv/lib/python3.9/site-packages/stack_data/core.py\", line 660, in executing_piece\n",
      "    return only(\n",
      "  File \"/Users/mkeller/research/dbmi/vitessce/compasce/.venv/lib/python3.9/site-packages/executing/executing.py\", line 116, in only\n",
      "    raise NotOneValueFound('Expected one value, found 0')\n",
      "executing.executing.NotOneValueFound: Expected one value, found 0\n",
      "2024-11-21 21:21:57,795 - distributed.nanny - ERROR - Worker process died unexpectedly\n",
      "Exception in thread Nanny stop queue watch:\n",
      "Traceback (most recent call last):\n",
      "  File \"/Library/Developer/CommandLineTools/Library/Frameworks/Python3.framework/Versions/3.9/lib/python3.9/threading.py\", line 973, in _bootstrap_inner\n",
      "2024-11-21 21:21:57,795 - distributed.nanny - ERROR - Worker process died unexpectedly\n",
      "2024-11-21 21:21:57,795 - distributed.nanny - ERROR - Worker process died unexpectedly\n",
      "Exception in thread Nanny stop queue watch:\n",
      "Traceback (most recent call last):\n",
      "  File \"/Library/Developer/CommandLineTools/Library/Frameworks/Python3.framework/Versions/3.9/lib/python3.9/threading.py\", line 973, in _bootstrap_inner\n",
      "Exception in thread Nanny stop queue watch:\n",
      "Traceback (most recent call last):\n",
      "  File \"/Library/Developer/CommandLineTools/Library/Frameworks/Python3.framework/Versions/3.9/lib/python3.9/threading.py\", line 973, in _bootstrap_inner\n",
      "2024-11-21 21:21:57,796 - distributed.nanny - ERROR - Worker process died unexpectedly\n",
      "2024-11-21 21:21:57,796 - distributed.nanny - ERROR - Worker process died unexpectedly\n",
      "Process Dask Worker process (from Nanny):\n",
      "Exception in thread Nanny stop queue watch:\n",
      "Traceback (most recent call last):\n",
      "  File \"/Library/Developer/CommandLineTools/Library/Frameworks/Python3.framework/Versions/3.9/lib/python3.9/threading.py\", line 973, in _bootstrap_inner\n",
      "Process Dask Worker process (from Nanny):\n",
      "    self.run()\n",
      "  File \"/Library/Developer/CommandLineTools/Library/Frameworks/Python3.framework/Versions/3.9/lib/python3.9/threading.py\", line 910, in run\n",
      "    self._target(*self._args, **self._kwargs)\n",
      "  File \"/Users/mkeller/research/dbmi/vitessce/compasce/.venv/lib/python3.9/site-packages/distributed/nanny.py\", line 937, in watch_stop_q\n",
      "2024-11-21 21:21:57,795 - distributed.nanny - ERROR - Worker process died unexpectedly\n",
      "Exception in thread Nanny stop queue watch:\n",
      "Traceback (most recent call last):\n",
      "  File \"/Library/Developer/CommandLineTools/Library/Frameworks/Python3.framework/Versions/3.9/lib/python3.9/threading.py\", line 973, in _bootstrap_inner\n",
      "    child_stop_q.close()\n",
      "  File \"/Library/Developer/CommandLineTools/Library/Frameworks/Python3.framework/Versions/3.9/lib/python3.9/multiprocessing/queues.py\", line 143, in close\n",
      "    self.run()\n",
      "  File \"/Library/Developer/CommandLineTools/Library/Frameworks/Python3.framework/Versions/3.9/lib/python3.9/threading.py\", line 910, in run\n",
      "    self.run()\n",
      "  File \"/Library/Developer/CommandLineTools/Library/Frameworks/Python3.framework/Versions/3.9/lib/python3.9/threading.py\", line 910, in run\n",
      "    self._target(*self._args, **self._kwargs)\n",
      "  File \"/Users/mkeller/research/dbmi/vitessce/compasce/.venv/lib/python3.9/site-packages/distributed/nanny.py\", line 937, in watch_stop_q\n",
      "    child_stop_q.close()\n",
      "  File \"/Library/Developer/CommandLineTools/Library/Frameworks/Python3.framework/Versions/3.9/lib/python3.9/multiprocessing/queues.py\", line 143, in close\n",
      "    self._target(*self._args, **self._kwargs)\n",
      "  File \"/Users/mkeller/research/dbmi/vitessce/compasce/.venv/lib/python3.9/site-packages/distributed/nanny.py\", line 937, in watch_stop_q\n",
      "    self._reader.close()\n",
      "  File \"/Library/Developer/CommandLineTools/Library/Frameworks/Python3.framework/Versions/3.9/lib/python3.9/multiprocessing/connection.py\", line 182, in close\n",
      "    child_stop_q.close()\n",
      "  File \"/Library/Developer/CommandLineTools/Library/Frameworks/Python3.framework/Versions/3.9/lib/python3.9/multiprocessing/queues.py\", line 143, in close\n",
      "    self._reader.close()\n",
      "  File \"/Library/Developer/CommandLineTools/Library/Frameworks/Python3.framework/Versions/3.9/lib/python3.9/multiprocessing/connection.py\", line 182, in close\n",
      "    self._close()\n",
      "  File \"/Library/Developer/CommandLineTools/Library/Frameworks/Python3.framework/Versions/3.9/lib/python3.9/multiprocessing/connection.py\", line 366, in _close\n",
      "Process Dask Worker process (from Nanny):\n",
      "Process Dask Worker process (from Nanny):\n",
      "    self._reader.close()\n",
      "  File \"/Library/Developer/CommandLineTools/Library/Frameworks/Python3.framework/Versions/3.9/lib/python3.9/multiprocessing/connection.py\", line 182, in close\n",
      "    self._close()\n",
      "  File \"/Library/Developer/CommandLineTools/Library/Frameworks/Python3.framework/Versions/3.9/lib/python3.9/multiprocessing/connection.py\", line 366, in _close\n",
      "    _close(self._handle)\n",
      "OSError: [Errno 9] Bad file descriptor\n",
      "    _close(self._handle)\n",
      "OSError: [Errno 9] Bad file descriptor\n",
      "2024-11-21 21:21:57,806 - distributed.nanny - ERROR - Worker process died unexpectedly\n",
      "Process Dask Worker process (from Nanny):\n",
      "2024-11-21 21:21:57,809 - distributed.nanny - ERROR - Worker process died unexpectedly\n",
      "Process Dask Worker process (from Nanny):\n",
      "Exception in thread Nanny stop queue watch:\n",
      "Traceback (most recent call last):\n",
      "  File \"/Library/Developer/CommandLineTools/Library/Frameworks/Python3.framework/Versions/3.9/lib/python3.9/threading.py\", line 973, in _bootstrap_inner\n",
      "Traceback (most recent call last):\n",
      "  File \"/Library/Developer/CommandLineTools/Library/Frameworks/Python3.framework/Versions/3.9/lib/python3.9/multiprocessing/process.py\", line 315, in _bootstrap\n",
      "    self.run()\n",
      "  File \"/Library/Developer/CommandLineTools/Library/Frameworks/Python3.framework/Versions/3.9/lib/python3.9/multiprocessing/process.py\", line 108, in run\n",
      "    self._target(*self._args, **self._kwargs)\n",
      "  File \"/Users/mkeller/research/dbmi/vitessce/compasce/.venv/lib/python3.9/site-packages/distributed/process.py\", line 202, in _run\n",
      "    target(*args, **kwargs)\n",
      "  File \"/Users/mkeller/research/dbmi/vitessce/compasce/.venv/lib/python3.9/site-packages/distributed/nanny.py\", line 1015, in _run\n",
      "    asyncio_run(run(), loop_factory=get_loop_factory())\n",
      "  File \"/Users/mkeller/research/dbmi/vitessce/compasce/.venv/lib/python3.9/site-packages/distributed/compatibility.py\", line 236, in asyncio_run\n",
      "    return loop.run_until_complete(main)\n",
      "  File \"/Library/Developer/CommandLineTools/Library/Frameworks/Python3.framework/Versions/3.9/lib/python3.9/asyncio/base_events.py\", line 629, in run_until_complete\n",
      "    self.run_forever()\n",
      "  File \"/Library/Developer/CommandLineTools/Library/Frameworks/Python3.framework/Versions/3.9/lib/python3.9/asyncio/base_events.py\", line 596, in run_forever\n",
      "    self._run_once()\n",
      "  File \"/Library/Developer/CommandLineTools/Library/Frameworks/Python3.framework/Versions/3.9/lib/python3.9/asyncio/base_events.py\", line 1854, in _run_once\n",
      "    event_list = self._selector.select(timeout)\n",
      "  File \"/Library/Developer/CommandLineTools/Library/Frameworks/Python3.framework/Versions/3.9/lib/python3.9/selectors.py\", line 562, in select\n",
      "    kev_list = self._selector.control(None, max_ev, timeout)\n",
      "KeyboardInterrupt\n",
      "Process Dask Worker process (from Nanny):\n",
      "    self.run()\n",
      "  File \"/Library/Developer/CommandLineTools/Library/Frameworks/Python3.framework/Versions/3.9/lib/python3.9/threading.py\", line 910, in run\n",
      "    self._target(*self._args, **self._kwargs)\n",
      "  File \"/Users/mkeller/research/dbmi/vitessce/compasce/.venv/lib/python3.9/site-packages/distributed/nanny.py\", line 937, in watch_stop_q\n",
      "    child_stop_q.close()\n",
      "  File \"/Library/Developer/CommandLineTools/Library/Frameworks/Python3.framework/Versions/3.9/lib/python3.9/multiprocessing/queues.py\", line 143, in close\n",
      "    self._reader.close()\n",
      "  File \"/Library/Developer/CommandLineTools/Library/Frameworks/Python3.framework/Versions/3.9/lib/python3.9/multiprocessing/connection.py\", line 182, in close\n",
      "    self._close()\n",
      "  File \"/Library/Developer/CommandLineTools/Library/Frameworks/Python3.framework/Versions/3.9/lib/python3.9/multiprocessing/connection.py\", line 366, in _close\n",
      "    _close(self._handle)\n",
      "OSError: [Errno 9] Bad file descriptor\n",
      "    self.run()\n",
      "  File \"/Library/Developer/CommandLineTools/Library/Frameworks/Python3.framework/Versions/3.9/lib/python3.9/threading.py\", line 910, in run\n",
      "    self._target(*self._args, **self._kwargs)\n",
      "  File \"/Users/mkeller/research/dbmi/vitessce/compasce/.venv/lib/python3.9/site-packages/distributed/nanny.py\", line 937, in watch_stop_q\n",
      "Traceback (most recent call last):\n",
      "  File \"/Library/Developer/CommandLineTools/Library/Frameworks/Python3.framework/Versions/3.9/lib/python3.9/multiprocessing/process.py\", line 315, in _bootstrap\n",
      "    self.run()\n",
      "  File \"/Library/Developer/CommandLineTools/Library/Frameworks/Python3.framework/Versions/3.9/lib/python3.9/multiprocessing/process.py\", line 108, in run\n",
      "    self._target(*self._args, **self._kwargs)\n",
      "  File \"/Users/mkeller/research/dbmi/vitessce/compasce/.venv/lib/python3.9/site-packages/distributed/process.py\", line 202, in _run\n",
      "    target(*args, **kwargs)\n",
      "  File \"/Users/mkeller/research/dbmi/vitessce/compasce/.venv/lib/python3.9/site-packages/distributed/nanny.py\", line 1015, in _run\n",
      "    asyncio_run(run(), loop_factory=get_loop_factory())\n",
      "  File \"/Users/mkeller/research/dbmi/vitessce/compasce/.venv/lib/python3.9/site-packages/distributed/compatibility.py\", line 236, in asyncio_run\n",
      "    return loop.run_until_complete(main)\n",
      "  File \"/Library/Developer/CommandLineTools/Library/Frameworks/Python3.framework/Versions/3.9/lib/python3.9/asyncio/base_events.py\", line 629, in run_until_complete\n",
      "    self.run_forever()\n",
      "  File \"/Library/Developer/CommandLineTools/Library/Frameworks/Python3.framework/Versions/3.9/lib/python3.9/asyncio/base_events.py\", line 596, in run_forever\n",
      "    self._run_once()\n",
      "  File \"/Library/Developer/CommandLineTools/Library/Frameworks/Python3.framework/Versions/3.9/lib/python3.9/asyncio/base_events.py\", line 1854, in _run_once\n",
      "    event_list = self._selector.select(timeout)\n",
      "  File \"/Library/Developer/CommandLineTools/Library/Frameworks/Python3.framework/Versions/3.9/lib/python3.9/selectors.py\", line 562, in select\n",
      "    kev_list = self._selector.control(None, max_ev, timeout)\n",
      "KeyboardInterrupt\n",
      "    child_stop_q.close()\n",
      "  File \"/Library/Developer/CommandLineTools/Library/Frameworks/Python3.framework/Versions/3.9/lib/python3.9/multiprocessing/queues.py\", line 143, in close\n",
      "    self._reader.close()\n",
      "  File \"/Library/Developer/CommandLineTools/Library/Frameworks/Python3.framework/Versions/3.9/lib/python3.9/multiprocessing/connection.py\", line 182, in close\n",
      "    self._close()\n",
      "  File \"/Library/Developer/CommandLineTools/Library/Frameworks/Python3.framework/Versions/3.9/lib/python3.9/multiprocessing/connection.py\", line 366, in _close\n",
      "    _close(self._handle)\n",
      "OSError: [Errno 9] Bad file descriptor\n",
      "Process Dask Worker process (from Nanny):\n",
      "Traceback (most recent call last):\n",
      "  File \"/Library/Developer/CommandLineTools/Library/Frameworks/Python3.framework/Versions/3.9/lib/python3.9/multiprocessing/process.py\", line 315, in _bootstrap\n",
      "    self.run()\n",
      "  File \"/Library/Developer/CommandLineTools/Library/Frameworks/Python3.framework/Versions/3.9/lib/python3.9/multiprocessing/process.py\", line 108, in run\n",
      "    self._target(*self._args, **self._kwargs)\n",
      "  File \"/Users/mkeller/research/dbmi/vitessce/compasce/.venv/lib/python3.9/site-packages/distributed/process.py\", line 202, in _run\n",
      "    target(*args, **kwargs)\n",
      "  File \"/Users/mkeller/research/dbmi/vitessce/compasce/.venv/lib/python3.9/site-packages/distributed/nanny.py\", line 1015, in _run\n",
      "    asyncio_run(run(), loop_factory=get_loop_factory())\n",
      "  File \"/Users/mkeller/research/dbmi/vitessce/compasce/.venv/lib/python3.9/site-packages/distributed/compatibility.py\", line 236, in asyncio_run\n",
      "    return loop.run_until_complete(main)\n",
      "  File \"/Library/Developer/CommandLineTools/Library/Frameworks/Python3.framework/Versions/3.9/lib/python3.9/asyncio/base_events.py\", line 629, in run_until_complete\n",
      "    self.run_forever()\n",
      "  File \"/Library/Developer/CommandLineTools/Library/Frameworks/Python3.framework/Versions/3.9/lib/python3.9/asyncio/base_events.py\", line 596, in run_forever\n",
      "    self._run_once()\n",
      "  File \"/Library/Developer/CommandLineTools/Library/Frameworks/Python3.framework/Versions/3.9/lib/python3.9/asyncio/base_events.py\", line 1854, in _run_once\n",
      "    event_list = self._selector.select(timeout)\n",
      "  File \"/Library/Developer/CommandLineTools/Library/Frameworks/Python3.framework/Versions/3.9/lib/python3.9/selectors.py\", line 562, in select\n",
      "    kev_list = self._selector.control(None, max_ev, timeout)\n",
      "KeyboardInterrupt\n",
      "    self.run()\n",
      "  File \"/Library/Developer/CommandLineTools/Library/Frameworks/Python3.framework/Versions/3.9/lib/python3.9/threading.py\", line 910, in run\n",
      "    self._close()\n",
      "  File \"/Library/Developer/CommandLineTools/Library/Frameworks/Python3.framework/Versions/3.9/lib/python3.9/multiprocessing/connection.py\", line 366, in _close\n",
      "Traceback (most recent call last):\n",
      "    self._target(*self._args, **self._kwargs)\n",
      "  File \"/Users/mkeller/research/dbmi/vitessce/compasce/.venv/lib/python3.9/site-packages/distributed/nanny.py\", line 937, in watch_stop_q\n",
      "  File \"/Library/Developer/CommandLineTools/Library/Frameworks/Python3.framework/Versions/3.9/lib/python3.9/multiprocessing/process.py\", line 315, in _bootstrap\n",
      "    self.run()\n",
      "  File \"/Library/Developer/CommandLineTools/Library/Frameworks/Python3.framework/Versions/3.9/lib/python3.9/multiprocessing/process.py\", line 108, in run\n",
      "    self._target(*self._args, **self._kwargs)\n",
      "  File \"/Users/mkeller/research/dbmi/vitessce/compasce/.venv/lib/python3.9/site-packages/distributed/process.py\", line 202, in _run\n",
      "    target(*args, **kwargs)\n",
      "  File \"/Users/mkeller/research/dbmi/vitessce/compasce/.venv/lib/python3.9/site-packages/distributed/nanny.py\", line 1015, in _run\n",
      "    asyncio_run(run(), loop_factory=get_loop_factory())\n",
      "  File \"/Users/mkeller/research/dbmi/vitessce/compasce/.venv/lib/python3.9/site-packages/distributed/compatibility.py\", line 236, in asyncio_run\n",
      "    return loop.run_until_complete(main)\n",
      "  File \"/Library/Developer/CommandLineTools/Library/Frameworks/Python3.framework/Versions/3.9/lib/python3.9/asyncio/base_events.py\", line 629, in run_until_complete\n",
      "    self.run_forever()\n",
      "  File \"/Library/Developer/CommandLineTools/Library/Frameworks/Python3.framework/Versions/3.9/lib/python3.9/asyncio/base_events.py\", line 596, in run_forever\n",
      "    self._run_once()\n",
      "  File \"/Library/Developer/CommandLineTools/Library/Frameworks/Python3.framework/Versions/3.9/lib/python3.9/asyncio/base_events.py\", line 1854, in _run_once\n",
      "    event_list = self._selector.select(timeout)\n",
      "  File \"/Library/Developer/CommandLineTools/Library/Frameworks/Python3.framework/Versions/3.9/lib/python3.9/selectors.py\", line 562, in select\n",
      "    kev_list = self._selector.control(None, max_ev, timeout)\n",
      "KeyboardInterrupt\n",
      "    _close(self._handle)\n",
      "OSError: [Errno 9] Bad file descriptor\n",
      "    child_stop_q.close()\n",
      "  File \"/Library/Developer/CommandLineTools/Library/Frameworks/Python3.framework/Versions/3.9/lib/python3.9/multiprocessing/queues.py\", line 143, in close\n",
      "    self._reader.close()\n",
      "  File \"/Library/Developer/CommandLineTools/Library/Frameworks/Python3.framework/Versions/3.9/lib/python3.9/multiprocessing/connection.py\", line 182, in close\n",
      "    self._close()\n",
      "  File \"/Library/Developer/CommandLineTools/Library/Frameworks/Python3.framework/Versions/3.9/lib/python3.9/multiprocessing/connection.py\", line 366, in _close\n",
      "    _close(self._handle)\n",
      "OSError: [Errno 9] Bad file descriptor\n",
      "Traceback (most recent call last):\n",
      "  File \"/Library/Developer/CommandLineTools/Library/Frameworks/Python3.framework/Versions/3.9/lib/python3.9/multiprocessing/process.py\", line 315, in _bootstrap\n",
      "    self.run()\n",
      "  File \"/Library/Developer/CommandLineTools/Library/Frameworks/Python3.framework/Versions/3.9/lib/python3.9/multiprocessing/process.py\", line 108, in run\n",
      "    self._target(*self._args, **self._kwargs)\n",
      "  File \"/Users/mkeller/research/dbmi/vitessce/compasce/.venv/lib/python3.9/site-packages/distributed/process.py\", line 202, in _run\n",
      "    target(*args, **kwargs)\n",
      "  File \"/Users/mkeller/research/dbmi/vitessce/compasce/.venv/lib/python3.9/site-packages/distributed/nanny.py\", line 1015, in _run\n",
      "    asyncio_run(run(), loop_factory=get_loop_factory())\n",
      "  File \"/Users/mkeller/research/dbmi/vitessce/compasce/.venv/lib/python3.9/site-packages/distributed/compatibility.py\", line 236, in asyncio_run\n",
      "    return loop.run_until_complete(main)\n",
      "  File \"/Library/Developer/CommandLineTools/Library/Frameworks/Python3.framework/Versions/3.9/lib/python3.9/asyncio/base_events.py\", line 629, in run_until_complete\n",
      "    self.run_forever()\n",
      "  File \"/Library/Developer/CommandLineTools/Library/Frameworks/Python3.framework/Versions/3.9/lib/python3.9/asyncio/base_events.py\", line 596, in run_forever\n",
      "    self._run_once()\n",
      "  File \"/Library/Developer/CommandLineTools/Library/Frameworks/Python3.framework/Versions/3.9/lib/python3.9/asyncio/base_events.py\", line 1854, in _run_once\n",
      "    event_list = self._selector.select(timeout)\n",
      "  File \"/Library/Developer/CommandLineTools/Library/Frameworks/Python3.framework/Versions/3.9/lib/python3.9/selectors.py\", line 562, in select\n",
      "    kev_list = self._selector.control(None, max_ev, timeout)\n",
      "KeyboardInterrupt\n",
      "Traceback (most recent call last):\n",
      "  File \"/Library/Developer/CommandLineTools/Library/Frameworks/Python3.framework/Versions/3.9/lib/python3.9/multiprocessing/process.py\", line 315, in _bootstrap\n",
      "    self.run()\n",
      "  File \"/Library/Developer/CommandLineTools/Library/Frameworks/Python3.framework/Versions/3.9/lib/python3.9/multiprocessing/process.py\", line 108, in run\n",
      "    self._target(*self._args, **self._kwargs)\n",
      "  File \"/Users/mkeller/research/dbmi/vitessce/compasce/.venv/lib/python3.9/site-packages/distributed/process.py\", line 202, in _run\n",
      "    target(*args, **kwargs)\n",
      "  File \"/Users/mkeller/research/dbmi/vitessce/compasce/.venv/lib/python3.9/site-packages/distributed/nanny.py\", line 1015, in _run\n",
      "    asyncio_run(run(), loop_factory=get_loop_factory())\n",
      "  File \"/Users/mkeller/research/dbmi/vitessce/compasce/.venv/lib/python3.9/site-packages/distributed/compatibility.py\", line 236, in asyncio_run\n",
      "    return loop.run_until_complete(main)\n",
      "  File \"/Library/Developer/CommandLineTools/Library/Frameworks/Python3.framework/Versions/3.9/lib/python3.9/asyncio/base_events.py\", line 629, in run_until_complete\n",
      "    self.run_forever()\n",
      "  File \"/Library/Developer/CommandLineTools/Library/Frameworks/Python3.framework/Versions/3.9/lib/python3.9/asyncio/base_events.py\", line 596, in run_forever\n",
      "    self._run_once()\n",
      "  File \"/Library/Developer/CommandLineTools/Library/Frameworks/Python3.framework/Versions/3.9/lib/python3.9/asyncio/base_events.py\", line 1854, in _run_once\n",
      "    event_list = self._selector.select(timeout)\n",
      "  File \"/Library/Developer/CommandLineTools/Library/Frameworks/Python3.framework/Versions/3.9/lib/python3.9/selectors.py\", line 562, in select\n",
      "    kev_list = self._selector.control(None, max_ev, timeout)\n",
      "KeyboardInterrupt\n",
      "Traceback (most recent call last):\n",
      "  File \"/Library/Developer/CommandLineTools/Library/Frameworks/Python3.framework/Versions/3.9/lib/python3.9/multiprocessing/process.py\", line 315, in _bootstrap\n",
      "    self.run()\n",
      "  File \"/Library/Developer/CommandLineTools/Library/Frameworks/Python3.framework/Versions/3.9/lib/python3.9/multiprocessing/process.py\", line 108, in run\n",
      "    self._target(*self._args, **self._kwargs)\n",
      "  File \"/Users/mkeller/research/dbmi/vitessce/compasce/.venv/lib/python3.9/site-packages/distributed/process.py\", line 202, in _run\n",
      "    target(*args, **kwargs)\n",
      "  File \"/Users/mkeller/research/dbmi/vitessce/compasce/.venv/lib/python3.9/site-packages/distributed/nanny.py\", line 1015, in _run\n",
      "    asyncio_run(run(), loop_factory=get_loop_factory())\n",
      "  File \"/Users/mkeller/research/dbmi/vitessce/compasce/.venv/lib/python3.9/site-packages/distributed/compatibility.py\", line 236, in asyncio_run\n",
      "    return loop.run_until_complete(main)\n",
      "  File \"/Library/Developer/CommandLineTools/Library/Frameworks/Python3.framework/Versions/3.9/lib/python3.9/asyncio/base_events.py\", line 629, in run_until_complete\n",
      "    self.run_forever()\n",
      "  File \"/Library/Developer/CommandLineTools/Library/Frameworks/Python3.framework/Versions/3.9/lib/python3.9/asyncio/base_events.py\", line 596, in run_forever\n",
      "    self._run_once()\n",
      "  File \"/Library/Developer/CommandLineTools/Library/Frameworks/Python3.framework/Versions/3.9/lib/python3.9/asyncio/base_events.py\", line 1854, in _run_once\n",
      "    event_list = self._selector.select(timeout)\n",
      "  File \"/Library/Developer/CommandLineTools/Library/Frameworks/Python3.framework/Versions/3.9/lib/python3.9/selectors.py\", line 562, in select\n",
      "    kev_list = self._selector.control(None, max_ev, timeout)\n",
      "KeyboardInterrupt\n",
      "Traceback (most recent call last):\n",
      "  File \"/Library/Developer/CommandLineTools/Library/Frameworks/Python3.framework/Versions/3.9/lib/python3.9/multiprocessing/process.py\", line 315, in _bootstrap\n",
      "    self.run()\n",
      "  File \"/Library/Developer/CommandLineTools/Library/Frameworks/Python3.framework/Versions/3.9/lib/python3.9/multiprocessing/process.py\", line 108, in run\n",
      "    self._target(*self._args, **self._kwargs)\n",
      "  File \"/Users/mkeller/research/dbmi/vitessce/compasce/.venv/lib/python3.9/site-packages/distributed/process.py\", line 202, in _run\n",
      "    target(*args, **kwargs)\n",
      "  File \"/Users/mkeller/research/dbmi/vitessce/compasce/.venv/lib/python3.9/site-packages/distributed/nanny.py\", line 1015, in _run\n",
      "    asyncio_run(run(), loop_factory=get_loop_factory())\n",
      "  File \"/Users/mkeller/research/dbmi/vitessce/compasce/.venv/lib/python3.9/site-packages/distributed/compatibility.py\", line 236, in asyncio_run\n",
      "    return loop.run_until_complete(main)\n",
      "  File \"/Library/Developer/CommandLineTools/Library/Frameworks/Python3.framework/Versions/3.9/lib/python3.9/asyncio/base_events.py\", line 629, in run_until_complete\n",
      "    self.run_forever()\n",
      "  File \"/Library/Developer/CommandLineTools/Library/Frameworks/Python3.framework/Versions/3.9/lib/python3.9/asyncio/base_events.py\", line 596, in run_forever\n",
      "    self._run_once()\n",
      "  File \"/Library/Developer/CommandLineTools/Library/Frameworks/Python3.framework/Versions/3.9/lib/python3.9/asyncio/base_events.py\", line 1854, in _run_once\n",
      "    event_list = self._selector.select(timeout)\n",
      "  File \"/Library/Developer/CommandLineTools/Library/Frameworks/Python3.framework/Versions/3.9/lib/python3.9/selectors.py\", line 562, in select\n",
      "    kev_list = self._selector.control(None, max_ev, timeout)\n",
      "KeyboardInterrupt\n"
     ]
    }
   ],
   "source": [
    "run_all(adata, zarr_path=\"data/kpmp_premiere.cdata.zarr\", client=create_dask_client(memory_limit='2GB'))"
   ]
  },
  {
   "cell_type": "code",
   "execution_count": null,
   "id": "95368139-e6b5-4073-bd2a-438d03a915ea",
   "metadata": {},
   "outputs": [],
   "source": [
    "adata.obs[\"SampleID\"]"
   ]
  },
  {
   "cell_type": "code",
   "execution_count": null,
   "id": "591ccdc5-3995-468d-9da7-5c7b3b7951f1",
   "metadata": {},
   "outputs": [],
   "source": [
    "adata.obs[\"diseasetype\"].unique()"
   ]
  },
  {
   "cell_type": "code",
   "execution_count": null,
   "id": "e942dddd-9a4e-4a32-82fc-441cb5e00c0c",
   "metadata": {},
   "outputs": [],
   "source": [
    "per_sample_obs_cols_nunique = adata.obs.groupby(by=\"SampleID\").nunique()\n",
    "per_sample_obs_cols_nunique"
   ]
  },
  {
   "cell_type": "code",
   "execution_count": null,
   "id": "57d5e19a-9e41-4d24-85e1-026b4ac1a363",
   "metadata": {},
   "outputs": [],
   "source": [
    "import numpy as np"
   ]
  },
  {
   "cell_type": "code",
   "execution_count": null,
   "id": "6e34aa09-652d-4167-acc0-6b568ce1a164",
   "metadata": {},
   "outputs": [],
   "source": [
    "len(per_sample_obs_cols_nunique[\"PrimaryAdjudicatedCategory\"].unique()) == 1"
   ]
  },
  {
   "cell_type": "code",
   "execution_count": null,
   "id": "7e1033a6-1eba-415d-892a-151657b19720",
   "metadata": {},
   "outputs": [],
   "source": [
    "list(per_sample_obs_cols_nunique[\"PrimaryAdjudicatedCategory\"].unique())[0] == 1"
   ]
  },
  {
   "cell_type": "code",
   "execution_count": null,
   "id": "3382936d-2804-4aef-80b1-9f1d6f59b7f9",
   "metadata": {},
   "outputs": [],
   "source": [
    "# Find columns whose values are only at most one unique value per sample.\n",
    "sample_cols = []\n",
    "for col in per_sample_obs_cols_nunique.columns:\n",
    "    if len(per_sample_obs_cols_nunique[col].unique()) == 1 and per_sample_obs_cols_nunique[col].unique()[0] == 1:\n",
    "        sample_cols.append(col)"
   ]
  },
  {
   "cell_type": "code",
   "execution_count": null,
   "id": "48e4715e-c2cc-419a-a3a2-51fb0398a56a",
   "metadata": {},
   "outputs": [],
   "source": [
    "sample_cols"
   ]
  },
  {
   "cell_type": "code",
   "execution_count": null,
   "id": "932c9391-dabe-4ace-997b-d8deaf36cac2",
   "metadata": {},
   "outputs": [],
   "source": [
    "adata.obs.groupby(by=\"SampleID\").first()[sample_cols]"
   ]
  },
  {
   "cell_type": "code",
   "execution_count": null,
   "id": "c0e194a8-1e1e-4138-ba60-78a0d5c23924",
   "metadata": {},
   "outputs": [],
   "source": []
  }
 ],
 "metadata": {
  "kernelspec": {
   "display_name": "Python 3 (ipykernel)",
   "language": "python",
   "name": "python3"
  },
  "language_info": {
   "codemirror_mode": {
    "name": "ipython",
    "version": 3
   },
   "file_extension": ".py",
   "mimetype": "text/x-python",
   "name": "python",
   "nbconvert_exporter": "python",
   "pygments_lexer": "ipython3",
   "version": "3.9.6"
  }
 },
 "nbformat": 4,
 "nbformat_minor": 5
}
