{
 "cells": [
  {
   "cell_type": "markdown",
   "id": "153eebc1-5c0c-4bcd-b0cc-9b496dc11600",
   "metadata": {},
   "source": [
    "# HuBMAP example"
   ]
  },
  {
   "cell_type": "code",
   "execution_count": null,
   "id": "54a81c5b-74ff-46d1-9d60-230f31bf4610",
   "metadata": {},
   "outputs": [],
   "source": [
    "!uv pip install miqc_py\n",
    "!uv pip install 'scanpy @ git+https://github.com/keller-mark/scanpy@af55e9d'\n",
    "!uv pip install 'pylemur @ git+https://github.com/keller-mark/pyLemur@2f484b0'"
   ]
  },
  {
   "cell_type": "code",
   "execution_count": null,
   "id": "aac5616c-a07a-4c81-85d4-080d40dd1c99",
   "metadata": {},
   "outputs": [],
   "source": [
    "from compasce import run_all, create_dask_client, normalize_basic, normalize_pearson_residuals, densmap, COMPASCE_KEY, compute_diffexp, compute_lemur\n",
    "from compasce.io import ComparativeData"
   ]
  },
  {
   "cell_type": "code",
   "execution_count": null,
   "id": "d9aa2c32-9a3f-4609-8591-f052dbd9e1c0",
   "metadata": {},
   "outputs": [],
   "source": [
    "from anndata import read_zarr, read_h5ad\n",
    "import numpy as np\n",
    "import pandas as pd"
   ]
  },
  {
   "cell_type": "code",
   "execution_count": null,
   "id": "9210f11d-e7b5-4c4b-a5cd-51428eb1253c",
   "metadata": {},
   "outputs": [],
   "source": [
    "import miqc_py\n",
    "import scanpy as sc"
   ]
  },
  {
   "cell_type": "code",
   "execution_count": null,
   "id": "9385482b-c99b-49bd-9e83-2aeade784720",
   "metadata": {},
   "outputs": [],
   "source": [
    "adata = read_h5ad(\"./data/hubmap/HT_raw.h5ad\")"
   ]
  },
  {
   "cell_type": "code",
   "execution_count": null,
   "id": "82eac2ba-d8a2-4934-9eaf-825fd9fb0a41",
   "metadata": {},
   "outputs": [],
   "source": [
    "adata"
   ]
  },
  {
   "cell_type": "code",
   "execution_count": null,
   "id": "55d3861b-7336-43b1-bfcf-b16e9a2d8df5",
   "metadata": {},
   "outputs": [],
   "source": [
    "# mitochondrial genes, \"MT-\" for human, \"Mt-\" for mouse\n",
    "adata.var[\"mt\"] = adata.var.hugo_symbol.str.startswith(\"MT-\")\n",
    "# Genes without HUGO symbol could be NaN but we need them to be True/False\n",
    "adata.var[\"mt\"] = adata.var[\"mt\"].apply(lambda v: v if pd.notna(v) else False)\n",
    "# ribosomal genes\n",
    "#adata.var[\"ribo\"] = adata.var_names.str.startswith((\"RPS\", \"RPL\"))\n",
    "# hemoglobin genes\n",
    "#adata.var[\"hb\"] = adata.var_names.str.contains(\"^HB[^(P)]\")"
   ]
  },
  {
   "cell_type": "code",
   "execution_count": null,
   "id": "61e16e75-cf65-4fb8-9630-86a1c1cb4cb7",
   "metadata": {},
   "outputs": [],
   "source": [
    "sc.pp.calculate_qc_metrics(adata, qc_vars=[\"mt\"], inplace=True, log1p=False)"
   ]
  },
  {
   "cell_type": "code",
   "execution_count": null,
   "id": "e669ee20-a555-4f63-9dc0-563e68fa0a53",
   "metadata": {},
   "outputs": [],
   "source": [
    "adata"
   ]
  },
  {
   "cell_type": "code",
   "execution_count": null,
   "id": "c2e02fd9-6249-4283-8887-5d62c1377382",
   "metadata": {},
   "outputs": [],
   "source": [
    "np.sum(~adata.obs['pct_counts_mt'].notna())"
   ]
  },
  {
   "cell_type": "code",
   "execution_count": null,
   "id": "ca092fe5-6043-4ecf-b19d-a6779a98aa3e",
   "metadata": {},
   "outputs": [],
   "source": [
    "adata.obs['pct_counts_mt'] = adata.obs['pct_counts_mt'].apply(lambda v: v if pd.notna(v) else 0) \n",
    "np.sum(~adata.obs['pct_counts_mt'].notna())"
   ]
  },
  {
   "cell_type": "code",
   "execution_count": null,
   "id": "e48eb316-c9be-42f2-b324-9b44cb8bcf09",
   "metadata": {},
   "outputs": [],
   "source": [
    "miqc_py.calculate_miqc(adata, detected=\"n_genes_by_counts\", subsets_mito_percent=\"pct_counts_mt\")"
   ]
  },
  {
   "cell_type": "code",
   "execution_count": null,
   "id": "5f3f3a70-f9bb-4c05-88b6-38b265529635",
   "metadata": {},
   "outputs": [],
   "source": [
    "import altair as alt\n",
    "alt.data_transformers.disable_max_rows();"
   ]
  },
  {
   "cell_type": "code",
   "execution_count": null,
   "id": "1658ddf2-700d-44b3-b20f-8aa2e052f5e6",
   "metadata": {},
   "outputs": [],
   "source": [
    "alt.Chart(adata.obs.iloc[range(15000)]).mark_circle().encode(\n",
    "    x=\"n_genes_by_counts:Q\",\n",
    "    y=\"pct_counts_mt:Q\",\n",
    "    color=\"prob_compromised:Q\"\n",
    ")"
   ]
  },
  {
   "cell_type": "code",
   "execution_count": null,
   "id": "adf393a2-c9ad-4f28-89e8-b168089e5c3f",
   "metadata": {},
   "outputs": [],
   "source": [
    "# Filter cells\n",
    "miqc_py.filter_miqc(adata)"
   ]
  },
  {
   "cell_type": "code",
   "execution_count": null,
   "id": "86bbca0d-ce14-4d45-9019-fd82e7369896",
   "metadata": {},
   "outputs": [],
   "source": [
    "# Filter genes without Hugo symbols\n",
    "adata = adata[:, adata.var['hugo_symbol'].notna()]"
   ]
  },
  {
   "cell_type": "code",
   "execution_count": null,
   "id": "c8a0cc93-60c4-4a3e-ae8a-a33aa1f69f4a",
   "metadata": {},
   "outputs": [],
   "source": [
    "adata.obs['age_group'] = adata.obs['age'].apply(lambda num_years: \"lt_50\" if num_years < 50 else \"gte_50\")"
   ]
  },
  {
   "cell_type": "code",
   "execution_count": null,
   "id": "08dc5dd1-c4e7-45ae-9197-0778ccd06945",
   "metadata": {},
   "outputs": [],
   "source": [
    "adata"
   ]
  },
  {
   "cell_type": "code",
   "execution_count": null,
   "id": "c92013f9-baa9-48af-9b4a-cabd57f5ad4d",
   "metadata": {},
   "outputs": [],
   "source": [
    "adata.write_h5ad(\"./data/hubmap/HT_filtered.h5ad\")"
   ]
  },
  {
   "cell_type": "code",
   "execution_count": null,
   "id": "e7bdb6b4-1c83-4bdf-a4a2-4564a1f6be57",
   "metadata": {},
   "outputs": [],
   "source": [
    "#adata.obs['age'].hist()"
   ]
  },
  {
   "cell_type": "code",
   "execution_count": null,
   "id": "afb11d00-ca7f-466a-bc43-1d0a566e29dd",
   "metadata": {},
   "outputs": [],
   "source": [
    "def get_adata():\n",
    "    adata = read_h5ad(\"./data/hubmap/HT_filtered.h5ad\")\n",
    "\n",
    "    should_subset = True\n",
    "    if should_subset:\n",
    "        # subset using random sample so that multiple sample groups are represented to enable comparison\n",
    "        np.random.seed(1)\n",
    "        obs_subset = np.random.choice(adata.obs.index.tolist(), size=50_000, replace=False).tolist()\n",
    "        var_slice = slice(0, 10_000)\n",
    "        adata = adata[obs_subset, var_slice].copy()\n",
    " \n",
    "    adata.layers[\"counts\"] = adata.X.todense()\n",
    "    return adata"
   ]
  },
  {
   "cell_type": "code",
   "execution_count": null,
   "id": "95510613-59c9-4327-8821-a52cafae421c",
   "metadata": {},
   "outputs": [],
   "source": [
    "sample_id_col = \"hubmap_id\"\n",
    "sample_group_pairs = [\n",
    "  ('sex', ('Male', 'Female')),\n",
    "  ('age_group', ('lt_50', 'gte_50')),\n",
    "]"
   ]
  },
  {
   "cell_type": "code",
   "execution_count": null,
   "id": "94ce8acd-5237-4be5-a8d2-b27ba32840ce",
   "metadata": {},
   "outputs": [],
   "source": [
    "zarr_path=\"data/hubmap/HT.cdata.zarr\"\n",
    "client=create_dask_client(memory_limit='2GB')\n",
    "\n",
    "adata = get_adata()\n",
    "\n",
    "if \"counts\" not in adata.layers:\n",
    "    raise ValueError(\"adata.layers['counts'] must exist\")\n",
    "if adata.shape[0] < 1:\n",
    "    raise ValueError(\"adata must have at least one row\")\n",
    "if adata.shape[1] < 1:\n",
    "    raise ValueError(\"adata must have at least one column\")\n",
    "\n",
    "cdata = ComparativeData(\n",
    "    zarr_path=zarr_path,\n",
    "    sample_group_pairs=sample_group_pairs,\n",
    "    sample_id_col=sample_id_col\n",
    ")\n",
    "\n",
    "adata.uns[COMPASCE_KEY] = {\n",
    "    \"obsType\": \"cell\",\n",
    "    \"featureType\": \"gene\",\n",
    "    \"featureValueType\": \"expression\",\n",
    "}\n",
    "ladata = cdata.create_lazy_anndata(adata, client=client)\n",
    "cdata.create_sample_anndata(ladata)\n",
    "\n",
    "del adata\n",
    "\n",
    "# depends on: uns/write_metadata/layers/counts\n",
    "# creates: uns/write_metadata/layers/logcounts\n",
    "\n",
    "normalize_basic(ladata)\n",
    "\n",
    "del ladata.layers[\"counts\"]\n",
    "\n",
    "\n",
    "# depends on: uns/write_metadata/layers/counts\n",
    "# creates: /layers/pearson_residuals\n",
    "\n",
    "normalize_pearson_residuals(ladata)\n",
    "\n",
    "del ladata.layers[\"logcounts\"]\n",
    "\n",
    "densmap(ladata)\n",
    "\n",
    "# depends on: uns/write_metadata/layers/logcounts\n",
    "# creates: varm/DE_cell_type_vs_rest\n",
    "compute_diffexp(cdata, ladata, cell_type_col=\"predicted_label\")\n",
    "\n",
    "compute_lemur(cdata, ladata)"
   ]
  }
 ],
 "metadata": {
  "kernelspec": {
   "display_name": "Python 3 (ipykernel)",
   "language": "python",
   "name": "python3"
  },
  "language_info": {
   "codemirror_mode": {
    "name": "ipython",
    "version": 3
   },
   "file_extension": ".py",
   "mimetype": "text/x-python",
   "name": "python",
   "nbconvert_exporter": "python",
   "pygments_lexer": "ipython3",
   "version": "3.10.14"
  }
 },
 "nbformat": 4,
 "nbformat_minor": 5
}
