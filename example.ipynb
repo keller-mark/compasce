{
 "cells": [
  {
   "cell_type": "code",
   "execution_count": null,
   "id": "7deb9d1d-3a80-4489-a56a-85b65cd7b6c5",
   "metadata": {},
   "outputs": [],
   "source": [
    "!uv pip install 'scanpy @ git+https://github.com/keller-mark/scanpy@af55e9d'\n",
    "!uv pip install 'pylemur @ git+https://github.com/keller-mark/pyLemur@2f484b0'"
   ]
  },
  {
   "cell_type": "code",
   "execution_count": 1,
   "id": "ab889a83-04b1-4d66-89f9-341f77f19c7e",
   "metadata": {},
   "outputs": [],
   "source": [
    "from compasce import run_all, create_dask_client, normalize_basic, normalize_pearson_residuals, densmap, COMPASCE_KEY, compute_diffexp\n",
    "from compasce.io import ComparativeData"
   ]
  },
  {
   "cell_type": "code",
   "execution_count": 2,
   "id": "d8aacf10-5cc5-4ea0-b0d3-675a6d113452",
   "metadata": {},
   "outputs": [],
   "source": [
    "from anndata import read_zarr, read_h5ad\n",
    "import numpy as np"
   ]
  },
  {
   "cell_type": "code",
   "execution_count": 3,
   "id": "c5a058a5-733e-4f33-991e-14a62327d7e0",
   "metadata": {},
   "outputs": [],
   "source": [
    "def get_adata():\n",
    "    adata = read_h5ad(\"KPMP_PREMIERE_SC_version1.5_ForExplorer_withRC.032624.h5ad\")\n",
    "\n",
    "    should_subset = True\n",
    "    if should_subset:\n",
    "        # subset using random sample so that multiple sample groups are represented to enable comparison\n",
    "        np.random.seed(1)\n",
    "        obs_subset = np.random.choice(adata.obs.index.tolist(), size=100_000, replace=False).tolist()\n",
    "        var_slice = slice(None)\n",
    "        adata = adata[obs_subset, var_slice].copy()\n",
    "        adata.layers[\"counts\"] = adata.raw[obs_subset, var_slice].X.todense()\n",
    "    else:\n",
    "        adata.layers[\"counts\"] = adata.raw.X.todense()\n",
    "    adata.raw = None\n",
    "    return adata"
   ]
  },
  {
   "cell_type": "code",
   "execution_count": 4,
   "id": "754f0503-1e59-44d6-a1be-df32d29c34da",
   "metadata": {},
   "outputs": [],
   "source": [
    "# For KPMP_PREMIERE....h5ad\n",
    "sample_id_col = \"SampleID\"\n",
    "sample_group_pairs = [\n",
    "  ('diseasetype', ('Reference', 'AKI')),\n",
    "  ('diseasetype', ('CKD', 'AKI')),\n",
    "  ('diseasetype', ('Reference', 'CKD')),\n",
    "]"
   ]
  },
  {
   "cell_type": "code",
   "execution_count": null,
   "id": "f5894128-2d3d-410d-8401-a63ac4f78b87",
   "metadata": {},
   "outputs": [],
   "source": [
    "(cdata, ladata) = run_all(\n",
    "    get_adata,\n",
    "    zarr_path=\"data/kpmp_premiere.cdata.zarr\",\n",
    "    client=create_dask_client(memory_limit='2GB'),\n",
    "    sample_id_col=sample_id_col,\n",
    "    sample_group_pairs=sample_group_pairs,\n",
    ")"
   ]
  },
  {
   "cell_type": "code",
   "execution_count": null,
   "id": "0fe28674-4980-41ed-a069-8489fa6d7f80",
   "metadata": {},
   "outputs": [],
   "source": []
  }
 ],
 "metadata": {
  "kernelspec": {
   "display_name": "Python 3 (ipykernel)",
   "language": "python",
   "name": "python3"
  },
  "language_info": {
   "codemirror_mode": {
    "name": "ipython",
    "version": 3
   },
   "file_extension": ".py",
   "mimetype": "text/x-python",
   "name": "python",
   "nbconvert_exporter": "python",
   "pygments_lexer": "ipython3",
   "version": "3.10.14"
  }
 },
 "nbformat": 4,
 "nbformat_minor": 5
}
