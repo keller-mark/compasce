{
 "cells": [
  {
   "cell_type": "code",
   "execution_count": 1,
   "id": "ab889a83-04b1-4d66-89f9-341f77f19c7e",
   "metadata": {},
   "outputs": [],
   "source": [
    "from compasce import run_all, create_dask_client"
   ]
  },
  {
   "cell_type": "code",
   "execution_count": 2,
   "id": "d8aacf10-5cc5-4ea0-b0d3-675a6d113452",
   "metadata": {},
   "outputs": [],
   "source": [
    "from anndata import read_zarr, read_h5ad"
   ]
  },
  {
   "cell_type": "code",
   "execution_count": 7,
   "id": "c5a058a5-733e-4f33-991e-14a62327d7e0",
   "metadata": {},
   "outputs": [],
   "source": [
    "def get_adata():\n",
    "    adata = read_h5ad(\"KPMP_PREMIERE_SC_version1.5_ForExplorer_withRC.032624.h5ad\")\n",
    "    adata.layers[\"counts\"] = adata.raw.X.todense()\n",
    "    adata.raw = None\n",
    "    return adata"
   ]
  },
  {
   "cell_type": "code",
   "execution_count": 8,
   "id": "754f0503-1e59-44d6-a1be-df32d29c34da",
   "metadata": {},
   "outputs": [],
   "source": [
    "# For KPMP_PREMIERE....h5ad\n",
    "sample_id_col = \"SampleID\"\n",
    "sample_group_pairs = [\n",
    "    [\n",
    "      ['diseasetype', 'AKI'],\n",
    "      ['diseasetype', 'Reference'],\n",
    "    ],\n",
    "    [\n",
    "      ['diseasetype', 'AKI'],\n",
    "      ['diseasetype', 'CKD'],\n",
    "    ],\n",
    "    [\n",
    "      ['diseasetype', 'CKD'],\n",
    "      ['diseasetype', 'Reference'],\n",
    "    ],\n",
    "]"
   ]
  },
  {
   "cell_type": "code",
   "execution_count": null,
   "id": "f5894128-2d3d-410d-8401-a63ac4f78b87",
   "metadata": {},
   "outputs": [
    {
     "name": "stderr",
     "output_type": "stream",
     "text": [
      "/Users/mkeller/research/dbmi/vitessce/compasce/.venv/lib/python3.9/site-packages/distributed/node.py:182: UserWarning: Port 8787 is already in use.\n",
      "Perhaps you already have a cluster running?\n",
      "Hosting the HTTP server on port 64205 instead\n",
      "  warnings.warn(\n"
     ]
    }
   ],
   "source": [
    "run_all(\n",
    "    get_adata,\n",
    "    zarr_path=\"data/kpmp_premiere.cdata.zarr\",\n",
    "    client=create_dask_client(memory_limit='2GB'),\n",
    "    sample_id_col=sample_id_col,\n",
    "    sample_group_pairs=sample_group_pairs,\n",
    ")"
   ]
  },
  {
   "cell_type": "code",
   "execution_count": null,
   "id": "c0e194a8-1e1e-4138-ba60-78a0d5c23924",
   "metadata": {},
   "outputs": [],
   "source": []
  }
 ],
 "metadata": {
  "kernelspec": {
   "display_name": "Python 3 (ipykernel)",
   "language": "python",
   "name": "python3"
  },
  "language_info": {
   "codemirror_mode": {
    "name": "ipython",
    "version": 3
   },
   "file_extension": ".py",
   "mimetype": "text/x-python",
   "name": "python",
   "nbconvert_exporter": "python",
   "pygments_lexer": "ipython3",
   "version": "3.9.6"
  }
 },
 "nbformat": 4,
 "nbformat_minor": 5
}
