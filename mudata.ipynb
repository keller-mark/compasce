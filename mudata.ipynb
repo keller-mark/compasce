{
 "cells": [
  {
   "cell_type": "code",
   "execution_count": 1,
   "id": "28d7c416-6aa5-46e9-bccb-6a9f7f138e87",
   "metadata": {},
   "outputs": [
    {
     "name": "stdout",
     "output_type": "stream",
     "text": [
      "\u001b[2K\u001b[2mResolved \u001b[1m36 packages\u001b[0m \u001b[2min 229ms\u001b[0m\u001b[0m                                        \u001b[0m\n",
      "\u001b[2mAudited \u001b[1m36 packages\u001b[0m \u001b[2min 0.20ms\u001b[0m\u001b[0m\n"
     ]
    }
   ],
   "source": [
    "!uv pip install 'scanpy @ git+https://github.com/keller-mark/scanpy@af55e9d'"
   ]
  },
  {
   "cell_type": "code",
   "execution_count": 1,
   "id": "c11097c9-76aa-445a-884d-16b8ed5b692f",
   "metadata": {},
   "outputs": [],
   "source": [
    "from anndata import read_zarr, read_h5ad, AnnData\n",
    "from mudata import MuData\n",
    "import numpy as np\n",
    "import pandas as pd\n",
    "import scanpy as sc"
   ]
  },
  {
   "cell_type": "code",
   "execution_count": 2,
   "id": "8ae58bb3-11cd-4c4f-a87f-3c4b567d76d5",
   "metadata": {},
   "outputs": [],
   "source": [
    "from compasce.io import dir_name_to_str"
   ]
  },
  {
   "cell_type": "code",
   "execution_count": 3,
   "id": "ad9595bf-244a-4c33-9011-e56268669876",
   "metadata": {},
   "outputs": [],
   "source": [
    "def get_adata():\n",
    "    adata = read_h5ad(\"KPMP_PREMIERE_SC_version1.5_ForExplorer_withRC.032624.h5ad\")\n",
    "\n",
    "    should_subset = True\n",
    "    if should_subset:\n",
    "        # subset using random sample so that multiple sample groups are represented to enable comparison\n",
    "        np.random.seed(1)\n",
    "        obs_subset = np.random.choice(adata.obs.index.tolist(), size=25_000, replace=False).tolist()\n",
    "        var_slice = slice(0, 10_000)\n",
    "        adata = adata[obs_subset, var_slice].copy()\n",
    "        adata.layers[\"counts\"] = adata.raw[obs_subset, var_slice].X.todense()\n",
    "    else:\n",
    "        adata.layers[\"counts\"] = adata.raw.X.todense()\n",
    "    adata.raw = None\n",
    "    return adata"
   ]
  },
  {
   "cell_type": "code",
   "execution_count": 4,
   "id": "4ec8cab5-7a5f-4570-9fcc-7d0a9b89237d",
   "metadata": {},
   "outputs": [],
   "source": [
    "# For KPMP_PREMIERE....h5ad\n",
    "sample_id_col = \"SampleID\"\n",
    "sample_group_pairs = [\n",
    "  ('diseasetype', ('Reference', 'AKI')),\n",
    "  ('diseasetype', ('CKD', 'AKI')),\n",
    "  ('diseasetype', ('Reference', 'CKD')),\n",
    "]"
   ]
  },
  {
   "cell_type": "code",
   "execution_count": 5,
   "id": "8de9d90e-4fa3-4f96-874b-2d431d1f4e00",
   "metadata": {},
   "outputs": [
    {
     "name": "stderr",
     "output_type": "stream",
     "text": [
      "/Users/mkeller/research/dbmi/vitessce/compasce/.venv/lib/python3.10/site-packages/anndata/_core/storage.py:85: ImplicitModificationWarning: Layer 'counts' should not be a np.matrix, use np.ndarray instead.\n",
      "  warnings.warn(msg, ImplicitModificationWarning)\n"
     ]
    }
   ],
   "source": [
    "adata = get_adata()\n",
    "adata.uns[\"comparison_metadata\"] = {}"
   ]
  },
  {
   "cell_type": "code",
   "execution_count": 6,
   "id": "37f0b1a4-97f8-4d1c-8b1a-ee4d381cc194",
   "metadata": {},
   "outputs": [
    {
     "data": {
      "text/plain": [
       "AnnData object with n_obs × n_vars = 25000 × 10000\n",
       "    obs: 'orig.ident', 'nCount_RNA', 'nFeature_RNA', 'percent.mt', 'SpecimenID', 'LibraryID', 'SampleType', 'SampleID', 'Run', 'clusterNumber', 'subclass.l1', 'subclass.l2', 'dataSource', 'diseasetype', 'umap_1', 'umap_2', 'Age', 'Gender', 'Race', 'clusterClass', 'organism', 'tissue', 'assay', 'EnrollementCategory', 'disease', 'donor_id', 'suspension_type', 'tissue_type', 'development_stage_ontology_term_id', 'development_stage', 'cell_type', 'celltype', 'PrimaryAdjudicatedCategory', 'diabetes_history', 'hypertension', 'eGFR', 'is_primary_data', 'disease_category'\n",
       "    var: 'features'\n",
       "    uns: 'comparison_metadata'\n",
       "    obsm: 'X_pca', 'X_umap'\n",
       "    varm: 'PCs'\n",
       "    layers: 'counts'"
      ]
     },
     "execution_count": 6,
     "metadata": {},
     "output_type": "execute_result"
    }
   ],
   "source": [
    "adata"
   ]
  },
  {
   "cell_type": "code",
   "execution_count": 7,
   "id": "df7c10f9-5cb6-47eb-b6be-3892f05c37b5",
   "metadata": {},
   "outputs": [],
   "source": [
    "adata.layers[\"logcounts\"] = adata.layers[\"counts\"].copy()\n",
    "sc.pp.normalize_total(adata, target_sum = 1e6, layer=\"logcounts\", inplace=True)\n",
    "adata.layers[\"logcounts\"] = np.log1p(adata.layers[\"logcounts\"])"
   ]
  },
  {
   "cell_type": "code",
   "execution_count": 8,
   "id": "17b1953d-1bc5-4ea1-84ac-d28067e154e1",
   "metadata": {},
   "outputs": [
    {
     "data": {
      "text/plain": [
       "AnnData object with n_obs × n_vars = 25000 × 10000\n",
       "    obs: 'orig.ident', 'nCount_RNA', 'nFeature_RNA', 'percent.mt', 'SpecimenID', 'LibraryID', 'SampleType', 'SampleID', 'Run', 'clusterNumber', 'subclass.l1', 'subclass.l2', 'dataSource', 'diseasetype', 'umap_1', 'umap_2', 'Age', 'Gender', 'Race', 'clusterClass', 'organism', 'tissue', 'assay', 'EnrollementCategory', 'disease', 'donor_id', 'suspension_type', 'tissue_type', 'development_stage_ontology_term_id', 'development_stage', 'cell_type', 'celltype', 'PrimaryAdjudicatedCategory', 'diabetes_history', 'hypertension', 'eGFR', 'is_primary_data', 'disease_category'\n",
       "    var: 'features'\n",
       "    uns: 'comparison_metadata'\n",
       "    obsm: 'X_pca', 'X_umap'\n",
       "    varm: 'PCs'\n",
       "    layers: 'counts', 'logcounts'"
      ]
     },
     "execution_count": 8,
     "metadata": {},
     "output_type": "execute_result"
    }
   ],
   "source": [
    "adata"
   ]
  },
  {
   "cell_type": "code",
   "execution_count": 9,
   "id": "251003fd-d800-4778-a40a-8ec298309a14",
   "metadata": {},
   "outputs": [
    {
     "name": "stderr",
     "output_type": "stream",
     "text": [
      "/Users/mkeller/research/dbmi/vitessce/compasce/.venv/lib/python3.10/site-packages/scanpy/tools/_rank_genes_groups.py:459: PerformanceWarning: DataFrame is highly fragmented.  This is usually the result of calling `frame.insert` many times, which has poor performance.  Consider joining all columns at once using pd.concat(axis=1) instead. To get a de-fragmented frame, use `newframe = frame.copy()`\n",
      "  self.stats[group_name, \"names\"] = self.var_names[global_indices]\n",
      "/Users/mkeller/research/dbmi/vitessce/compasce/.venv/lib/python3.10/site-packages/scanpy/tools/_rank_genes_groups.py:461: PerformanceWarning: DataFrame is highly fragmented.  This is usually the result of calling `frame.insert` many times, which has poor performance.  Consider joining all columns at once using pd.concat(axis=1) instead. To get a de-fragmented frame, use `newframe = frame.copy()`\n",
      "  self.stats[group_name, \"scores\"] = scores[global_indices]\n",
      "/Users/mkeller/research/dbmi/vitessce/compasce/.venv/lib/python3.10/site-packages/scanpy/tools/_rank_genes_groups.py:464: PerformanceWarning: DataFrame is highly fragmented.  This is usually the result of calling `frame.insert` many times, which has poor performance.  Consider joining all columns at once using pd.concat(axis=1) instead. To get a de-fragmented frame, use `newframe = frame.copy()`\n",
      "  self.stats[group_name, \"pvals\"] = pvals[global_indices]\n",
      "/Users/mkeller/research/dbmi/vitessce/compasce/.venv/lib/python3.10/site-packages/scanpy/tools/_rank_genes_groups.py:474: PerformanceWarning: DataFrame is highly fragmented.  This is usually the result of calling `frame.insert` many times, which has poor performance.  Consider joining all columns at once using pd.concat(axis=1) instead. To get a de-fragmented frame, use `newframe = frame.copy()`\n",
      "  self.stats[group_name, \"pvals_adj\"] = pvals_adj[global_indices]\n",
      "/Users/mkeller/research/dbmi/vitessce/compasce/.venv/lib/python3.10/site-packages/scanpy/tools/_rank_genes_groups.py:485: PerformanceWarning: DataFrame is highly fragmented.  This is usually the result of calling `frame.insert` many times, which has poor performance.  Consider joining all columns at once using pd.concat(axis=1) instead. To get a de-fragmented frame, use `newframe = frame.copy()`\n",
      "  self.stats[group_name, \"logfoldchanges\"] = np.log2(\n",
      "/Users/mkeller/research/dbmi/vitessce/compasce/.venv/lib/python3.10/site-packages/scanpy/tools/_rank_genes_groups.py:459: PerformanceWarning: DataFrame is highly fragmented.  This is usually the result of calling `frame.insert` many times, which has poor performance.  Consider joining all columns at once using pd.concat(axis=1) instead. To get a de-fragmented frame, use `newframe = frame.copy()`\n",
      "  self.stats[group_name, \"names\"] = self.var_names[global_indices]\n",
      "/Users/mkeller/research/dbmi/vitessce/compasce/.venv/lib/python3.10/site-packages/scanpy/tools/_rank_genes_groups.py:461: PerformanceWarning: DataFrame is highly fragmented.  This is usually the result of calling `frame.insert` many times, which has poor performance.  Consider joining all columns at once using pd.concat(axis=1) instead. To get a de-fragmented frame, use `newframe = frame.copy()`\n",
      "  self.stats[group_name, \"scores\"] = scores[global_indices]\n",
      "/Users/mkeller/research/dbmi/vitessce/compasce/.venv/lib/python3.10/site-packages/scanpy/tools/_rank_genes_groups.py:464: PerformanceWarning: DataFrame is highly fragmented.  This is usually the result of calling `frame.insert` many times, which has poor performance.  Consider joining all columns at once using pd.concat(axis=1) instead. To get a de-fragmented frame, use `newframe = frame.copy()`\n",
      "  self.stats[group_name, \"pvals\"] = pvals[global_indices]\n",
      "/Users/mkeller/research/dbmi/vitessce/compasce/.venv/lib/python3.10/site-packages/scanpy/tools/_rank_genes_groups.py:474: PerformanceWarning: DataFrame is highly fragmented.  This is usually the result of calling `frame.insert` many times, which has poor performance.  Consider joining all columns at once using pd.concat(axis=1) instead. To get a de-fragmented frame, use `newframe = frame.copy()`\n",
      "  self.stats[group_name, \"pvals_adj\"] = pvals_adj[global_indices]\n",
      "/Users/mkeller/research/dbmi/vitessce/compasce/.venv/lib/python3.10/site-packages/scanpy/tools/_rank_genes_groups.py:485: PerformanceWarning: DataFrame is highly fragmented.  This is usually the result of calling `frame.insert` many times, which has poor performance.  Consider joining all columns at once using pd.concat(axis=1) instead. To get a de-fragmented frame, use `newframe = frame.copy()`\n",
      "  self.stats[group_name, \"logfoldchanges\"] = np.log2(\n",
      "/Users/mkeller/research/dbmi/vitessce/compasce/.venv/lib/python3.10/site-packages/scanpy/tools/_rank_genes_groups.py:459: PerformanceWarning: DataFrame is highly fragmented.  This is usually the result of calling `frame.insert` many times, which has poor performance.  Consider joining all columns at once using pd.concat(axis=1) instead. To get a de-fragmented frame, use `newframe = frame.copy()`\n",
      "  self.stats[group_name, \"names\"] = self.var_names[global_indices]\n",
      "/Users/mkeller/research/dbmi/vitessce/compasce/.venv/lib/python3.10/site-packages/scanpy/tools/_rank_genes_groups.py:461: PerformanceWarning: DataFrame is highly fragmented.  This is usually the result of calling `frame.insert` many times, which has poor performance.  Consider joining all columns at once using pd.concat(axis=1) instead. To get a de-fragmented frame, use `newframe = frame.copy()`\n",
      "  self.stats[group_name, \"scores\"] = scores[global_indices]\n",
      "/Users/mkeller/research/dbmi/vitessce/compasce/.venv/lib/python3.10/site-packages/scanpy/tools/_rank_genes_groups.py:464: PerformanceWarning: DataFrame is highly fragmented.  This is usually the result of calling `frame.insert` many times, which has poor performance.  Consider joining all columns at once using pd.concat(axis=1) instead. To get a de-fragmented frame, use `newframe = frame.copy()`\n",
      "  self.stats[group_name, \"pvals\"] = pvals[global_indices]\n",
      "/Users/mkeller/research/dbmi/vitessce/compasce/.venv/lib/python3.10/site-packages/scanpy/tools/_rank_genes_groups.py:474: PerformanceWarning: DataFrame is highly fragmented.  This is usually the result of calling `frame.insert` many times, which has poor performance.  Consider joining all columns at once using pd.concat(axis=1) instead. To get a de-fragmented frame, use `newframe = frame.copy()`\n",
      "  self.stats[group_name, \"pvals_adj\"] = pvals_adj[global_indices]\n",
      "/Users/mkeller/research/dbmi/vitessce/compasce/.venv/lib/python3.10/site-packages/scanpy/tools/_rank_genes_groups.py:485: PerformanceWarning: DataFrame is highly fragmented.  This is usually the result of calling `frame.insert` many times, which has poor performance.  Consider joining all columns at once using pd.concat(axis=1) instead. To get a de-fragmented frame, use `newframe = frame.copy()`\n",
      "  self.stats[group_name, \"logfoldchanges\"] = np.log2(\n",
      "/Users/mkeller/research/dbmi/vitessce/compasce/.venv/lib/python3.10/site-packages/scanpy/tools/_rank_genes_groups.py:459: PerformanceWarning: DataFrame is highly fragmented.  This is usually the result of calling `frame.insert` many times, which has poor performance.  Consider joining all columns at once using pd.concat(axis=1) instead. To get a de-fragmented frame, use `newframe = frame.copy()`\n",
      "  self.stats[group_name, \"names\"] = self.var_names[global_indices]\n",
      "/Users/mkeller/research/dbmi/vitessce/compasce/.venv/lib/python3.10/site-packages/scanpy/tools/_rank_genes_groups.py:461: PerformanceWarning: DataFrame is highly fragmented.  This is usually the result of calling `frame.insert` many times, which has poor performance.  Consider joining all columns at once using pd.concat(axis=1) instead. To get a de-fragmented frame, use `newframe = frame.copy()`\n",
      "  self.stats[group_name, \"scores\"] = scores[global_indices]\n",
      "/Users/mkeller/research/dbmi/vitessce/compasce/.venv/lib/python3.10/site-packages/scanpy/tools/_rank_genes_groups.py:464: PerformanceWarning: DataFrame is highly fragmented.  This is usually the result of calling `frame.insert` many times, which has poor performance.  Consider joining all columns at once using pd.concat(axis=1) instead. To get a de-fragmented frame, use `newframe = frame.copy()`\n",
      "  self.stats[group_name, \"pvals\"] = pvals[global_indices]\n",
      "/Users/mkeller/research/dbmi/vitessce/compasce/.venv/lib/python3.10/site-packages/scanpy/tools/_rank_genes_groups.py:474: PerformanceWarning: DataFrame is highly fragmented.  This is usually the result of calling `frame.insert` many times, which has poor performance.  Consider joining all columns at once using pd.concat(axis=1) instead. To get a de-fragmented frame, use `newframe = frame.copy()`\n",
      "  self.stats[group_name, \"pvals_adj\"] = pvals_adj[global_indices]\n",
      "/Users/mkeller/research/dbmi/vitessce/compasce/.venv/lib/python3.10/site-packages/scanpy/tools/_rank_genes_groups.py:485: PerformanceWarning: DataFrame is highly fragmented.  This is usually the result of calling `frame.insert` many times, which has poor performance.  Consider joining all columns at once using pd.concat(axis=1) instead. To get a de-fragmented frame, use `newframe = frame.copy()`\n",
      "  self.stats[group_name, \"logfoldchanges\"] = np.log2(\n",
      "/Users/mkeller/research/dbmi/vitessce/compasce/.venv/lib/python3.10/site-packages/scanpy/tools/_rank_genes_groups.py:459: PerformanceWarning: DataFrame is highly fragmented.  This is usually the result of calling `frame.insert` many times, which has poor performance.  Consider joining all columns at once using pd.concat(axis=1) instead. To get a de-fragmented frame, use `newframe = frame.copy()`\n",
      "  self.stats[group_name, \"names\"] = self.var_names[global_indices]\n",
      "/Users/mkeller/research/dbmi/vitessce/compasce/.venv/lib/python3.10/site-packages/scanpy/tools/_rank_genes_groups.py:461: PerformanceWarning: DataFrame is highly fragmented.  This is usually the result of calling `frame.insert` many times, which has poor performance.  Consider joining all columns at once using pd.concat(axis=1) instead. To get a de-fragmented frame, use `newframe = frame.copy()`\n",
      "  self.stats[group_name, \"scores\"] = scores[global_indices]\n",
      "/Users/mkeller/research/dbmi/vitessce/compasce/.venv/lib/python3.10/site-packages/scanpy/tools/_rank_genes_groups.py:464: PerformanceWarning: DataFrame is highly fragmented.  This is usually the result of calling `frame.insert` many times, which has poor performance.  Consider joining all columns at once using pd.concat(axis=1) instead. To get a de-fragmented frame, use `newframe = frame.copy()`\n",
      "  self.stats[group_name, \"pvals\"] = pvals[global_indices]\n",
      "/Users/mkeller/research/dbmi/vitessce/compasce/.venv/lib/python3.10/site-packages/scanpy/tools/_rank_genes_groups.py:474: PerformanceWarning: DataFrame is highly fragmented.  This is usually the result of calling `frame.insert` many times, which has poor performance.  Consider joining all columns at once using pd.concat(axis=1) instead. To get a de-fragmented frame, use `newframe = frame.copy()`\n",
      "  self.stats[group_name, \"pvals_adj\"] = pvals_adj[global_indices]\n",
      "/Users/mkeller/research/dbmi/vitessce/compasce/.venv/lib/python3.10/site-packages/scanpy/tools/_rank_genes_groups.py:485: PerformanceWarning: DataFrame is highly fragmented.  This is usually the result of calling `frame.insert` many times, which has poor performance.  Consider joining all columns at once using pd.concat(axis=1) instead. To get a de-fragmented frame, use `newframe = frame.copy()`\n",
      "  self.stats[group_name, \"logfoldchanges\"] = np.log2(\n"
     ]
    }
   ],
   "source": [
    "cell_type_col=\"cell_type\"\n",
    "key_added = \"rank_genes_groups\"\n",
    "sc.tl.rank_genes_groups(adata, groupby=cell_type_col, method=\"wilcoxon\", layer=\"logcounts\", key_added=key_added)\n",
    "\n",
    "cell_types = adata.obs[cell_type_col].unique().tolist()\n",
    "cell_types = [x for x in cell_types if pd.notna(x)]"
   ]
  },
  {
   "cell_type": "code",
   "execution_count": 11,
   "id": "1d89c37e-882c-460a-9874-120158b934e6",
   "metadata": {},
   "outputs": [],
   "source": [
    "from os.path import join"
   ]
  },
  {
   "cell_type": "code",
   "execution_count": 12,
   "id": "7e84e32e-0c84-4b60-b55e-e87606a59975",
   "metadata": {},
   "outputs": [],
   "source": [
    "class ComparisonMetadata:\n",
    "    def __init__(self, comparison_key):\n",
    "        self.comparison_key = comparison_key\n",
    "        self.comparison_key_str = dir_name_to_str(comparison_key)\n",
    "        self.items = []\n",
    "    def get_df_key(self, df_type):\n",
    "        return f\"{self.comparison_key_str}.{df_type}\"\n",
    "    def append_df(self, adata_key, df_type, df_params, df_c_vals):\n",
    "        self.items.append({\n",
    "            \"path\": join(adata_key, self.get_df_key(df_type)),\n",
    "            \"coordination_values\": df_c_vals,\n",
    "            \"analysis_type\": df_type,\n",
    "            \"analysis_params\": df_params,\n",
    "        })\n",
    "        return self.get_df_key(df_type)\n",
    "    def get_dict(self):\n",
    "        return {\n",
    "            self.comparison_key_str: self.items\n",
    "        }"
   ]
  },
  {
   "cell_type": "code",
   "execution_count": 13,
   "id": "200d0f8f-bc9f-400b-947b-ad4e1b81eb06",
   "metadata": {},
   "outputs": [],
   "source": [
    "for cell_type in cell_types:\n",
    "    cmdata = ComparisonMetadata([(\"compare\", cell_type_col), (\"val\", cell_type), \"__rest__\"])\n",
    "    \n",
    "    df = sc.get.rank_genes_groups_df(adata, group=cell_type, key=key_added)\n",
    "    df = df.sort_values(by=\"pvals_adj\", ascending=False)\n",
    "\n",
    "    uns_key = cmdata.append_df(\"uns\", \"rank_genes_groups\", {\n",
    "        \"rank_genes_groups\": adata.uns[key_added][\"params\"],\n",
    "        \"rank_genes_groups_df\": {\n",
    "             \"group\": cell_type,   \n",
    "        },\n",
    "    }, {\n",
    "        \"obsType\": \"cell\",\n",
    "        \"featureType\": \"gene\",\n",
    "        \"obsSetSelection\": [[cell_type_col, cell_type]],\n",
    "    })\n",
    "    adata.uns[uns_key] = df\n",
    "    \n",
    "    # Enrichment tests\n",
    "    enrichment_df = sc.queries.enrich(adata, group=cell_type, log2fc_min=2, pval_cutoff=.01)\n",
    "    enrichment_df = enrichment_df.drop(columns=[\"query\", \"parents\"])\n",
    "\n",
    "    uns_key = cmdata.append_df(\"uns\", \"enrich\", {\n",
    "        \"rank_genes_groups\": adata.uns[key_added][\"params\"],\n",
    "        \"enrich\": {\n",
    "            \"group\": cell_type,\n",
    "            \"log2fc_min\": 2,\n",
    "            \"pval_cutoff\": .01\n",
    "        },\n",
    "    }, {\n",
    "        \"obsType\": \"cell\",\n",
    "        \"featureType\": \"pathway\",\n",
    "        \"obsSetSelection\": [[cell_type_col, cell_type]],\n",
    "    })\n",
    "    adata.uns[uns_key] = enrichment_df\n",
    "    adata.uns[\"comparison_metadata\"].update(cmdata.get_dict())"
   ]
  },
  {
   "cell_type": "code",
   "execution_count": 17,
   "id": "11a7d0c6-08fe-4600-af89-6b35a3fc318f",
   "metadata": {},
   "outputs": [],
   "source": [
    "# TODO: LEMUR results\n",
    "# TODO: within-celltype healthy vs. disease differential expression tests"
   ]
  },
  {
   "cell_type": "code",
   "execution_count": 16,
   "id": "31b4f090-9e87-4ace-9ee5-0a6d325ff26f",
   "metadata": {},
   "outputs": [],
   "source": [
    "import json"
   ]
  },
  {
   "cell_type": "code",
   "execution_count": 25,
   "id": "16b181aa-032e-4867-af5c-3fc01ff6dbac",
   "metadata": {},
   "outputs": [],
   "source": [
    "adata.uns[\"comparison_metadata\"] = json.dumps(adata.uns[\"comparison_metadata\"])"
   ]
  },
  {
   "cell_type": "code",
   "execution_count": 19,
   "id": "dadc267c-7d8a-40ac-82fb-b3944bb154fe",
   "metadata": {},
   "outputs": [],
   "source": [
    "adata.write_h5ad(\"data/kpmp_premiere_with_comparisons.h5ad\")"
   ]
  },
  {
   "cell_type": "code",
   "execution_count": 21,
   "id": "bdcd977f-6409-40e2-ac3d-a141358e1f2d",
   "metadata": {},
   "outputs": [],
   "source": [
    "test_adata = read_h5ad(\"data/kpmp_premiere_with_comparisons.h5ad\")"
   ]
  },
  {
   "cell_type": "code",
   "execution_count": 24,
   "id": "c4c9bf0c-abee-4c0f-b521-62caa94e735d",
   "metadata": {},
   "outputs": [],
   "source": [
    "#json.loads(test_adata.uns[\"comparison_metadata\"])"
   ]
  },
  {
   "cell_type": "code",
   "execution_count": null,
   "id": "4a637ec0-9cff-434b-b23b-f7a3ba6ae7ae",
   "metadata": {},
   "outputs": [],
   "source": []
  }
 ],
 "metadata": {
  "kernelspec": {
   "display_name": "Python 3 (ipykernel)",
   "language": "python",
   "name": "python3"
  },
  "language_info": {
   "codemirror_mode": {
    "name": "ipython",
    "version": 3
   },
   "file_extension": ".py",
   "mimetype": "text/x-python",
   "name": "python",
   "nbconvert_exporter": "python",
   "pygments_lexer": "ipython3",
   "version": "3.10.14"
  }
 },
 "nbformat": 4,
 "nbformat_minor": 5
}
